{
  "nbformat": 4,
  "nbformat_minor": 0,
  "metadata": {
    "colab": {
      "provenance": [],
      "authorship_tag": "ABX9TyPzw8bmj7xtaFcVt5qKeUAF",
      "include_colab_link": true
    },
    "kernelspec": {
      "name": "python3",
      "display_name": "Python 3"
    },
    "language_info": {
      "name": "python"
    }
  },
  "cells": [
    {
      "cell_type": "markdown",
      "metadata": {
        "id": "view-in-github",
        "colab_type": "text"
      },
      "source": [
        "<a href=\"https://colab.research.google.com/github/akhilkanugolu/python/blob/main/formated_strings.ipynb\" target=\"_parent\"><img src=\"https://colab.research.google.com/assets/colab-badge.svg\" alt=\"Open In Colab\"/></a>"
      ]
    },
    {
      "cell_type": "code",
      "execution_count": 1,
      "metadata": {
        "id": "ym6y7es1nzUj"
      },
      "outputs": [],
      "source": [
        "#variables\n",
        "topic = \"Formatted Strings\"\n",
        "methodNo1 =1\n",
        "methodNo2 =2\n",
        "methodNo3 =3"
      ]
    },
    {
      "cell_type": "code",
      "source": [
        "#Using + operator\n",
        "intro_concat = str(methodNo1)+\". Python Shorts on \" + topic\n",
        "print(intro_concat)"
      ],
      "metadata": {
        "colab": {
          "base_uri": "https://localhost:8080/"
        },
        "id": "re63DU-fqhdT",
        "outputId": "07d4a67e-dfeb-4610-c38d-0f2a55e5d345"
      },
      "execution_count": 2,
      "outputs": [
        {
          "output_type": "stream",
          "name": "stdout",
          "text": [
            "1. Python Shorts on Formatted Strings\n"
          ]
        }
      ]
    },
    {
      "cell_type": "code",
      "source": [
        "#Using .format() method\n",
        "intro_format_method =\"{}. Python Shorts on {}\".format(methodNo2,topic)\n",
        "print(intro_format_method)"
      ],
      "metadata": {
        "colab": {
          "base_uri": "https://localhost:8080/"
        },
        "id": "0prfQapfrWsW",
        "outputId": "64869cae-80c4-4a5e-eb4b-a2e80b741dd9"
      },
      "execution_count": 3,
      "outputs": [
        {
          "output_type": "stream",
          "name": "stdout",
          "text": [
            "2. Python Shorts on Formatted Strings\n"
          ]
        }
      ]
    },
    {
      "cell_type": "code",
      "source": [
        "#Using f strings\n",
        "intro_fstring_method =f\"{methodNo3}. Python Shorts on {topic}\"\n",
        "print(intro_fstring_method)"
      ],
      "metadata": {
        "colab": {
          "base_uri": "https://localhost:8080/"
        },
        "id": "If3RlYc9rZf6",
        "outputId": "2f1e2e15-8351-4089-bc74-6d164b29dbd1"
      },
      "execution_count": 4,
      "outputs": [
        {
          "output_type": "stream",
          "name": "stdout",
          "text": [
            "3. Python Shorts on Formatted Strings\n"
          ]
        }
      ]
    }
  ]
}