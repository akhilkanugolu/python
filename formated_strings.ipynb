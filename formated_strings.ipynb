{
  "nbformat": 4,
  "nbformat_minor": 0,
  "metadata": {
    "colab": {
      "provenance": [],
      "authorship_tag": "ABX9TyPz0rwwkx0OXpWcsomD6tjg"
    },
    "kernelspec": {
      "name": "python3",
      "display_name": "Python 3"
    },
    "language_info": {
      "name": "python"
    }
  },
  "cells": [
    {
      "cell_type": "code",
      "execution_count": 10,
      "metadata": {
        "id": "ym6y7es1nzUj"
      },
      "outputs": [],
      "source": [
        "#variables\n",
        "topic = \"Formated Strings in Python\"\n",
        "methodNo1 =1\n",
        "methodNo2 =2\n",
        "methodNo3 =3"
      ]
    },
    {
      "cell_type": "code",
      "source": [
        "#Using + operator\n",
        "intro_concat = str(methodNo1)+\". Python Shorts on\" + topic\n",
        "print(intro_concat)"
      ],
      "metadata": {
        "colab": {
          "base_uri": "https://localhost:8080/"
        },
        "id": "re63DU-fqhdT",
        "outputId": "db141b21-cef1-4cad-eefc-f5dde454aa2f"
      },
      "execution_count": 15,
      "outputs": [
        {
          "output_type": "stream",
          "name": "stdout",
          "text": [
            "1. Python Shorts onFormated Strings in Python\n"
          ]
        }
      ]
    },
    {
      "cell_type": "code",
      "source": [
        "#Using .format() method\n",
        "intro_format_method =\"{}. Python Shorts on {}\".format(methodNo2,topic)\n",
        "print(intro_format_method)"
      ],
      "metadata": {
        "colab": {
          "base_uri": "https://localhost:8080/"
        },
        "id": "0prfQapfrWsW",
        "outputId": "3421256c-7191-4bca-8319-b97c1e4e998c"
      },
      "execution_count": 12,
      "outputs": [
        {
          "output_type": "stream",
          "name": "stdout",
          "text": [
            "2. Python Shorts on Formated Strings in Python\n"
          ]
        }
      ]
    },
    {
      "cell_type": "code",
      "source": [
        "()#Using f strings\n",
        "intro_fstring_method =f\"{methodNo3}. Python Shorts on {topic}\"\n",
        "print(intro_fstring_method)"
      ],
      "metadata": {
        "colab": {
          "base_uri": "https://localhost:8080/"
        },
        "id": "If3RlYc9rZf6",
        "outputId": "678f7fa6-3d9d-449b-8d90-46c87b5f04f6"
      },
      "execution_count": 14,
      "outputs": [
        {
          "output_type": "stream",
          "name": "stdout",
          "text": [
            "3. Python Shorts on Formated Strings in Python\n"
          ]
        }
      ]
    }
  ]
}